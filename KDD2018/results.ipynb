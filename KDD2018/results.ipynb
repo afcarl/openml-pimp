{
 "cells": [
  {
   "cell_type": "code",
   "execution_count": null,
   "metadata": {
    "collapsed": false,
    "deletable": true,
    "editable": true
   },
   "outputs": [],
   "source": [
    "# imports\n",
    "import json\n",
    "import matplotlib.pyplot as plt\n",
    "import numpy as np\n",
    "import openmlpimp\n",
    "import os\n",
    "import pandas as pd\n",
    "import pickle\n",
    "\n",
    "# mapping from casual name to directory where it is saved\n",
    "classifiers = {\n",
    "  #'random forest': '6969/vanilla/', \n",
    "  'adaboost':      '6970/vanilla', \n",
    "  'svm (rbf)':     '7707/kernel_rbf', \n",
    "  'svm (sigmoid)': '7707/kernel_sigmoid'\n",
    "}\n",
    "\n",
    "%matplotlib inline"
   ]
  },
  {
   "cell_type": "markdown",
   "metadata": {
    "deletable": true,
    "editable": true
   },
   "source": [
    "# Marginal Contribution"
   ]
  },
  {
   "cell_type": "code",
   "execution_count": null,
   "metadata": {
    "collapsed": true,
    "deletable": true,
    "editable": true
   },
   "outputs": [],
   "source": [
    "def marginal_plots(sorted_values, keys, fig_title):\n",
    "    plt.figure()\n",
    "    plt.violinplot(list(sorted_values), list(range(len(sorted_values))))\n",
    "    plt.plot([-0.5, len(sorted_values) - 0.5], [0, 0], 'k-', linestyle='--', lw=1)\n",
    "    plt.xticks(list(range(len(sorted_values))), list(keys), rotation=45, ha='right')\n",
    "    plt.ylabel('marginal contribution')\n",
    "    # plt.title(fig_title)\n",
    "    print(fig_title)\n",
    "    plt.show()\n",
    "    plt.close()\n",
    "\n",
    "\n",
    "def determine_relevant(data, max_items=None, max_interactions=None):\n",
    "    from statistics import median\n",
    "    \n",
    "    sorted_values = []\n",
    "    keys = []\n",
    "    interactions_seen = 0\n",
    "    for key in sorted(data, key=lambda k: median(data[k]), reverse=True):\n",
    "        if '__' in key:\n",
    "            interactions_seen += 1\n",
    "            if interactions_seen > max_interactions:\n",
    "                continue\n",
    "\n",
    "        sorted_values.append(data[key])\n",
    "        keys.append(key)\n",
    "\n",
    "    if max_items is not None:\n",
    "        sorted_values = sorted_values[:max_items]\n",
    "        keys = keys[:max_items]\n",
    "\n",
    "    return sorted_values, keys"
   ]
  },
  {
   "cell_type": "code",
   "execution_count": null,
   "metadata": {
    "collapsed": false,
    "deletable": true,
    "editable": true
   },
   "outputs": [],
   "source": [
    "for classifier, directory_suffix in classifiers.items():\n",
    "    total_ranks, marginal_contribution, _ = openmlpimp.utils.obtain_marginal_contributions('data/fanova/' + directory_suffix)\n",
    "    sorted_values, keys = determine_relevant(marginal_contribution, max_interactions=3)\n",
    "    marginal_plots(sorted_values, keys, classifier)"
   ]
  },
  {
   "cell_type": "markdown",
   "metadata": {
    "deletable": true,
    "editable": true
   },
   "source": [
    "# Most important hyperparameter per dataset"
   ]
  },
  {
   "cell_type": "code",
   "execution_count": null,
   "metadata": {
    "collapsed": false,
    "deletable": true,
    "editable": true,
    "scrolled": false
   },
   "outputs": [],
   "source": [
    "x_axis_feature = 'NumberOfInstances'\n",
    "y_axis_feature = 'NumberOfFeatures'\n",
    "\n",
    "for classifier, directory_suffix in classifiers.items():\n",
    "    x_vals = {}\n",
    "    y_vals = {}\n",
    "    area = {}\n",
    "    \n",
    "    directory = 'data/fanova/' + directory_suffix\n",
    "    task_qualities = json.load(open('data/fanova/task_qualities.json', 'r'))\n",
    "    for task_id in os.listdir(directory):\n",
    "        task_dir = os.path.join(directory, task_id)\n",
    "        if not os.path.isdir(task_dir):\n",
    "            continue\n",
    "        pimp_file = os.path.join(task_dir, 'pimp_values_fanova.json')\n",
    "        interaction_file = os.path.join(task_dir, 'pimp_values_fanova_interaction.json')\n",
    "        \n",
    "        if not (os.path.isfile(pimp_file) and os.path.isfile(interaction_file)):\n",
    "            continue\n",
    "        \n",
    "        hyperparameters = json.load(open(pimp_file, 'r'))\n",
    "        hyperparameters.update(json.load(open(interaction_file, 'r')))\n",
    "        \n",
    "        most_important = max(hyperparameters, key=hyperparameters.get) \n",
    "        value = hyperparameters[most_important]\n",
    "        \n",
    "        if most_important not in x_vals:\n",
    "            x_vals[most_important] = []\n",
    "            y_vals[most_important] = []\n",
    "            area[most_important] = []\n",
    "        x_vals[most_important].append(float(task_qualities[task_id][x_axis_feature]))\n",
    "        y_vals[most_important].append(float(task_qualities[task_id][y_axis_feature]))\n",
    "        area[most_important].append(float(value) * 50)\n",
    "    \n",
    "    plotted_items = []\n",
    "    legend_keys = []\n",
    "    for param in x_vals.keys():\n",
    "        occurances = len(x_vals[param])\n",
    "        current = plt.scatter(x_vals[param], y_vals[param], s=area[param], alpha=0.9)\n",
    "        plotted_items.append(current)\n",
    "        legend_keys.append(param)\n",
    "    \n",
    "\n",
    "    legend = plt.legend(plotted_items, legend_keys, scatterpoints=1, loc='upper right')\n",
    "    for idx in range(len(plotted_items)):\n",
    "        legend.legendHandles[idx]._sizes = [50]\n",
    "    \n",
    "    print(classifier)\n",
    "    # dimensions of the datasets\n",
    "    plt.axis((450,100000,3,2100))\n",
    "    plt.xscale(\"log\")\n",
    "    plt.yscale(\"log\")\n",
    "\n",
    "    plt.xlabel(x_axis_feature, fontsize='xx-large')\n",
    "    plt.ylabel(y_axis_feature, fontsize='xx-large')\n",
    "    plt.show()"
   ]
  },
  {
   "cell_type": "markdown",
   "metadata": {
    "deletable": true,
    "editable": true
   },
   "source": [
    "# Verification\n",
    "The plots in the submission are generated with an external plotting library. To keep the notebook understandable, we will just plot the raw results"
   ]
  },
  {
   "cell_type": "code",
   "execution_count": null,
   "metadata": {
    "collapsed": true,
    "deletable": true,
    "editable": true
   },
   "outputs": [],
   "source": [
    "# TODO"
   ]
  },
  {
   "cell_type": "markdown",
   "metadata": {
    "deletable": true,
    "editable": true
   },
   "source": [
    "# Prior experiments"
   ]
  },
  {
   "cell_type": "code",
   "execution_count": null,
   "metadata": {
    "collapsed": false,
    "deletable": true,
    "editable": true
   },
   "outputs": [],
   "source": [
    "def plot_violin(results):\n",
    "    data = []\n",
    "    kde_wins = 0\n",
    "    uni_wins = 0\n",
    "    draws = 0\n",
    "    df = pd.DataFrame(columns=['A','B','C','D','E','F','G'])\n",
    "    for task_id in results:\n",
    "        if len(results[task_id]) == 2 and 'uniform' in results[task_id] and 'kde' in results[task_id] and len(results[task_id]['kde']) > 0 and len(results[task_id]['uniform']) > 0:\n",
    "            scores_kde = results[task_id]['kde']\n",
    "            scores_uniform = results[task_id]['uniform']\n",
    "\n",
    "            current = sum(scores_kde.values()) / len(scores_kde) - sum(scores_uniform.values()) / len(scores_uniform)\n",
    "            data.append(current)\n",
    "\n",
    "    plt.figure(figsize=(4, 12))\n",
    "    plt.tick_params(axis='x', which='both', bottom='off', top='off', labelbottom='off')\n",
    "    plt.plot([0.5, 1.5], [0, 0], 'k-', linestyle='--', lw=1)\n",
    "    plt.violinplot(data)\n",
    "    plt.show()\n",
    "    plt.close()\n",
    "\n",
    "\n",
    "for classifier, directory_suffix in classifiers.items():\n",
    "    directory = 'data/priors/' + directory_suffix\n",
    "    if not os.path.isfile(directory + '/cache_test.pkl'):\n",
    "        raise ValueError('Could not find cache file:', directory + '/cache_test.pkl')\n",
    "    cache_results_test = pickle.load(open(directory + '/cache_test.pkl', 'rb'))\n",
    "    print(classifier)\n",
    "    plot_violin(cache_results_test)"
   ]
  },
  {
   "cell_type": "code",
   "execution_count": null,
   "metadata": {
    "collapsed": true,
    "deletable": true,
    "editable": true
   },
   "outputs": [],
   "source": []
  }
 ],
 "metadata": {
  "kernelspec": {
   "display_name": "Python (pimp)",
   "language": "python",
   "name": "pimp"
  },
  "language_info": {
   "codemirror_mode": {
    "name": "ipython",
    "version": 3
   },
   "file_extension": ".py",
   "mimetype": "text/x-python",
   "name": "python",
   "nbconvert_exporter": "python",
   "pygments_lexer": "ipython3",
   "version": "3.5.2"
  }
 },
 "nbformat": 4,
 "nbformat_minor": 2
}
