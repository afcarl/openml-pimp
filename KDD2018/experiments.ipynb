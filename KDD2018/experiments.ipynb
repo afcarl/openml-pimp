{
 "cells": [
  {
   "cell_type": "code",
   "execution_count": null,
   "metadata": {
    "collapsed": false,
    "deletable": true,
    "editable": true
   },
   "outputs": [],
   "source": [
    "# imports\n",
    "import matplotlib.pyplot as plt\n",
    "import numpy as np\n",
    "import openml\n",
    "import openmlpimp\n",
    "\n",
    "# mapping from casual name to directory where it is saved\n",
    "classifiers = {\n",
    "  #'random forest': '6969/vanilla/', \n",
    "  #'adaboost':      '6970/vanilla', \n",
    "  'svm (rbf)':     '7707/kernel_rbf', \n",
    "  'svm (sigmoid)': '7707/kernel_sigmoid'\n",
    "}\n",
    "\n",
    "%matplotlib inline"
   ]
  },
  {
   "cell_type": "markdown",
   "metadata": {
    "deletable": true,
    "editable": true
   },
   "source": [
    "# Marginal Contribution"
   ]
  },
  {
   "cell_type": "code",
   "execution_count": null,
   "metadata": {
    "collapsed": true,
    "deletable": true,
    "editable": true
   },
   "outputs": [],
   "source": [
    "def marginal_plots(sorted_values, keys, fig_title):\n",
    "    plt.figure()\n",
    "    plt.violinplot(list(sorted_values), list(range(len(sorted_values))))\n",
    "    plt.plot([-0.5, len(sorted_values) - 0.5], [0, 0], 'k-', linestyle='--', lw=1)\n",
    "    plt.xticks(list(range(len(sorted_values))), list(keys), rotation=45, ha='right')\n",
    "    plt.ylabel('marginal contribution')\n",
    "    # plt.title(fig_title)\n",
    "    print(fig_title)\n",
    "    plt.show()\n",
    "    plt.close()\n",
    "\n",
    "\n",
    "def determine_relevant(data, max_items=None, max_interactions=None):\n",
    "    from statistics import median\n",
    "    \n",
    "    sorted_values = []\n",
    "    keys = []\n",
    "    interactions_seen = 0\n",
    "    for key in sorted(data, key=lambda k: median(data[k]), reverse=True):\n",
    "        if '__' in key:\n",
    "            interactions_seen += 1\n",
    "            if interactions_seen > max_interactions:\n",
    "                continue\n",
    "\n",
    "        sorted_values.append(data[key])\n",
    "        keys.append(key)\n",
    "\n",
    "    if max_items is not None:\n",
    "        sorted_values = sorted_values[:max_items]\n",
    "        keys = keys[:max_items]\n",
    "\n",
    "    return sorted_values, keys"
   ]
  },
  {
   "cell_type": "code",
   "execution_count": null,
   "metadata": {
    "collapsed": false,
    "deletable": true,
    "editable": true
   },
   "outputs": [],
   "source": [
    "for classifier, directory_suffix in classifiers.items():\n",
    "    total_ranks, marginal_contribution = openmlpimp.utils.obtain_marginal_contributions('data/fanova/' + directory_suffix)\n",
    "    sorted_values, keys = determine_relevant(marginal_contribution, max_interactions=3)\n",
    "    marginal_plots(sorted_values, keys, classifier)"
   ]
  },
  {
   "cell_type": "code",
   "execution_count": null,
   "metadata": {
    "collapsed": true,
    "deletable": true,
    "editable": true
   },
   "outputs": [],
   "source": []
  },
  {
   "cell_type": "code",
   "execution_count": null,
   "metadata": {
    "collapsed": true
   },
   "outputs": [],
   "source": []
  }
 ],
 "metadata": {
  "kernelspec": {
   "display_name": "Python (pimp)",
   "language": "python",
   "name": "pimp"
  },
  "language_info": {
   "codemirror_mode": {
    "name": "ipython",
    "version": 3
   },
   "file_extension": ".py",
   "mimetype": "text/x-python",
   "name": "python",
   "nbconvert_exporter": "python",
   "pygments_lexer": "ipython3",
   "version": "3.5.2"
  }
 },
 "nbformat": 4,
 "nbformat_minor": 2
}
